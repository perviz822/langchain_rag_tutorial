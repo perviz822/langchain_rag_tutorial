{
 "cells": [
  {
   "cell_type": "code",
   "execution_count": 52,
   "id": "5f7bef94",
   "metadata": {},
   "outputs": [],
   "source": [
    "question= \"What is the biggest animal on earth\"\n",
    "\n",
    "document= \"The most huge mammal in the world is elephant \""
   ]
  },
  {
   "cell_type": "markdown",
   "id": "6daaac89",
   "metadata": {},
   "source": [
    "### A function that calculates the token for a given word"
   ]
  },
  {
   "cell_type": "code",
   "execution_count": 28,
   "id": "7feb5420",
   "metadata": {},
   "outputs": [
    {
     "name": "stdout",
     "output_type": "stream",
     "text": [
      "[3923, 374, 279, 8706, 10065, 389, 9578]\n"
     ]
    }
   ],
   "source": [
    "import tiktoken\n",
    "\n",
    "def num_tokens_from_string (string:str,encoding_name:str)->int:\n",
    "    '''Takes a token -> encodes it-> counts the number of tokens'''\n",
    "    encoding = tiktoken.get_encoding(encoding_name)\n",
    "    num_tokens = len(encoding.encode(string))\n",
    "    print(encoding.encode(string))\n",
    "    return num_tokens\n",
    "\n",
    "tokens = num_tokens_from_string(question,'cl100k_base')\n"
   ]
  },
  {
   "cell_type": "code",
   "execution_count": 53,
   "id": "10769143",
   "metadata": {},
   "outputs": [],
   "source": [
    "from sentence_transformers import SentenceTransformer\n",
    "model = SentenceTransformer(\"sentence-transformers/all-mpnet-base-v2\")\n",
    "\n",
    "\n",
    "query_result = model.encode([question])\n",
    "document_result = model.encode([document])"
   ]
  },
  {
   "cell_type": "code",
   "execution_count": 55,
   "id": "d0f549aa",
   "metadata": {},
   "outputs": [
    {
     "name": "stdout",
     "output_type": "stream",
     "text": [
      "Cosine similarity: 0.7984286\n"
     ]
    }
   ],
   "source": [
    "import numpy  as np\n",
    "\n",
    "def cosine_similarity(vect1,vect2):\n",
    "    vect1 = vect1.flatten()  # convert (1, 384) → (384,)\n",
    "    vect2 = vect2.flatten()\n",
    "    dot_product = np.dot(vect1.flatten(),vect2)\n",
    "    norm1 = np.linalg.norm(vect1)\n",
    "    norm2 = np.linalg.norm(vect2)\n",
    "    similarity = dot_product /  (norm1*norm2)\n",
    "    return similarity\n",
    "\n",
    "similarity_score = cosine_similarity(query_result, document_result)\n",
    "print(\"Cosine similarity:\", similarity_score)"
   ]
  },
  {
   "cell_type": "markdown",
   "id": "f9e251d4",
   "metadata": {},
   "source": [
    "## build a text splitter for pdf"
   ]
  },
  {
   "cell_type": "code",
   "execution_count": 5,
   "id": "41bda712",
   "metadata": {},
   "outputs": [],
   "source": [
    "from langchain.document_loaders import PyPDFLoader\n",
    "\n",
    "loader = PyPDFLoader(\"hungary_immigration.pdf\")\n",
    "docs = loader.load()\n",
    "\n",
    "from langchain.text_splitter import RecursiveCharacterTextSplitter\n",
    "\n",
    "text_splitter = RecursiveCharacterTextSplitter(\n",
    "    chunk_size =1000,\n",
    "    chunk_overlap=200,\n",
    "    length_function= len\n",
    ")\n",
    "\n",
    "splits = text_splitter.split_documents(docs)"
   ]
  },
  {
   "cell_type": "markdown",
   "id": "0ea46b60",
   "metadata": {},
   "source": [
    "## Building vectorstore and retriever"
   ]
  },
  {
   "cell_type": "code",
   "execution_count": null,
   "id": "759d5e9a",
   "metadata": {},
   "outputs": [],
   "source": [
    "from langchain_community.vectorstores import Chroma\n",
    "from langchain.embeddings import HuggingFaceEmbeddings\n",
    "embedding = HuggingFaceEmbeddings(model_name=\"all-MiniLM-L6-v2\")\n",
    "vectorstore = Chroma.from_documents(documents= splits, embedding=embedding)\n",
    "retriever = vectorstore.as_retriever(search_kwargs ={\"k\":2})"
   ]
  },
  {
   "cell_type": "markdown",
   "id": "f2dac994",
   "metadata": {},
   "source": [
    "## Setting up the  DeepSeek LLM"
   ]
  },
  {
   "cell_type": "code",
   "execution_count": 7,
   "id": "2132599c",
   "metadata": {},
   "outputs": [],
   "source": [
    "from langchain_openai import ChatOpenAI\n",
    "import os\n",
    "from dotenv import load_dotenv\n",
    "load_dotenv()\n",
    "\n",
    "API_KEY = os.getenv(\"DEEP_SEEK_API_KEY\")\n",
    "if not API_KEY:\n",
    "    raise ValueError(\"DEEP_SEEK_API_KEY not found in environment variables\")\n",
    "\n",
    "# Use OpenAI-compatible client directly\n",
    "llm = ChatOpenAI(\n",
    "    api_key=API_KEY,\n",
    "    base_url=\"https://api.deepseek.com/v1\",\n",
    "    model=\"deepseek-chat\",\n",
    "    temperature=0\n",
    ")"
   ]
  },
  {
   "cell_type": "markdown",
   "id": "24e45f84",
   "metadata": {},
   "source": [
    "## Generating multiple sub prompts from simple prompt"
   ]
  },
  {
   "cell_type": "code",
   "execution_count": 8,
   "id": "1da54498",
   "metadata": {},
   "outputs": [],
   "source": [
    "from langchain.prompts import ChatPromptTemplate\n",
    "\n",
    "template= \"\"\"\n",
    "You are an AI language model assistant. Your task is to generate five \n",
    "different versions of the given user question to retrieve relevant documents from a vector \n",
    "database. By generating multiple perspectives on the user question, your goal is to help\n",
    "the user overcome some of the limitations of the distance-based similarity search. \n",
    "Provide these alternative questions separated by newlines. Original question: {question}\n",
    "\"\"\"\n",
    "prompt_perspectives = ChatPromptTemplate.from_template(template)\n",
    "\n",
    "from langchain_core.output_parsers import StrOutputParser\n",
    "\n",
    "generate_queries = (\n",
    "    prompt_perspectives\n",
    "    |llm\n",
    "    |StrOutputParser()\n",
    "    |(lambda x:x.split(\"\\n\"))\n",
    ")"
   ]
  },
  {
   "cell_type": "code",
   "execution_count": null,
   "id": "b081d712",
   "metadata": {},
   "outputs": [
    {
     "name": "stdout",
     "output_type": "stream",
     "text": [
      "[Document(metadata={'moddate': '2024-11-05T12:57:00+00:00', 'creationdate': '2024-11-05T12:57:00+00:00', 'producer': 'Skia/PDF m130', 'source': 'hungary_immigration.pdf', 'title': 'XC of 2023. law - National Legal Repository', 'total_pages': 97, 'page': 73, 'page_label': '74', 'creator': 'Mozilla/5.0 (Windows NT 10.0; Win64; x64) AppleWebKit/537.36 (KHTML, like Gecko) Chrome/130.0.0.0 Safari/537.36'}, page_content='issued (extended) residence permit or mobility in the case of a certificate, it is processed until the end of the fifth calendar year\\nfollowing its expiration or revocation.\\n(4) The data specified in point n) of subsection (1) until the final and enforceable decision made by the immigration authority on\\nthe application for a residence permit, or in points a) and b) of subsection (1) of Section 70 , and d) -f) is processed until the\\nhumanitarian residence permit is issued, after which it is deleted immediately.\\n(5) The immigration police register is a public register with respect to the data according to points a)-j) of paragraph (1) and\\nparagraph (2) .\\n§ 257. The immigration authority handles the facial image and fingerprint data recorded for the issuance of the small-border\\ntraffic permit in accordance with Council Decree 1030/2002/EC and Council Decree 380/2008/EC until a final and enforceable'), Document(metadata={'title': 'XC of 2023. law - National Legal Repository', 'source': 'hungary_immigration.pdf', 'producer': 'Skia/PDF m130', 'total_pages': 97, 'moddate': '2024-11-05T12:57:00+00:00', 'page_label': '69', 'page': 68, 'creator': 'Mozilla/5.0 (Windows NT 10.0; Win64; x64) AppleWebKit/537.36 (KHTML, like Gecko) Chrome/130.0.0.0 Safari/537.36', 'creationdate': '2024-11-05T12:57:00+00:00'}, page_content='b) the third-country national communicated false information or an untrue fact to the acting authority in order to obtain a right of\\nresidence;\\nc) the revocation is initiated by the authority or body proposing the release for reasons specified in point a) or for other reasons.\\n241/A. § \\n67\\n A residence permit issued in the national interest may be revoked by the minister responsible for immigration and\\nasylum if a change in the interest pursuant to § 67 (3) taken into account at the time of issuance justifies it, or § 226 (1) b)–e) point\\nyes justifies it.\\n147. Rules for the issuance and extension of the consolidated permit\\n§ 242. (1) The residence permit is issued or extended - with the exception of the cases included in subsection (4) - within the\\nframework of a combined application procedure, if the third-country national\\na) residence permit for seasonal employment,\\nb) residence permit for the purpose of employment issued for the purpose of implementing an investment,'), Document(metadata={'producer': 'Skia/PDF m130', 'page': 21, 'moddate': '2024-11-05T12:57:00+00:00', 'page_label': '22', 'creationdate': '2024-11-05T12:57:00+00:00', 'total_pages': 97, 'creator': 'Mozilla/5.0 (Windows NT 10.0; Win64; x64) AppleWebKit/537.36 (KHTML, like Gecko) Chrome/130.0.0.0 Safari/537.36', 'title': 'XC of 2023. law - National Legal Repository', 'source': 'hungary_immigration.pdf'}, page_content='maximum of six months, until the final completion of the proceedings initiated by the third-country national against his employer\\nin order to pay his back wages.\\n(3) If the residence permit is issued for humanitarian purposes based on the motion of the authorized authority or body, the\\nresidence permit may be revoked, extended, or refused extension at the initiative or with the consent of the authority or body\\nauthorized to make the motion.\\n(4) The residence permit of a third-country national falling within the scope of subsection (1) point d) can only be revoked, or\\nthe extension of the period of stay specified in the residence permit can only be refused if the family in his country of origin or in\\nanother state receiving him unification, and state or other institutional care is ensured.\\n(5) A third-country national with a residence permit based on point e) of paragraph (1) who is a victim of human trafficking is\\nentitled to benefits and support defined by law.'), Document(metadata={'creator': 'Mozilla/5.0 (Windows NT 10.0; Win64; x64) AppleWebKit/537.36 (KHTML, like Gecko) Chrome/130.0.0.0 Safari/537.36', 'page': 79, 'creationdate': '2024-11-05T12:57:00+00:00', 'source': 'hungary_immigration.pdf', 'title': 'XC of 2023. law - National Legal Repository', 'producer': 'Skia/PDF m130', 'page_label': '80', 'moddate': '2024-11-05T12:57:00+00:00', 'total_pages': 97}, page_content='and rights of the organizations and persons defined in § 279 in Hungary, and to establish the format and procedure for its issuance,\\ntaking into account the laws on mandatory data content. The ID card certifies the data contained in it as public authority.\\nPART ELEVEN\\nFINAL PROVISIONS\\n153. Empowering provisions\\nSection 283 (1) The Government is authorized to regulate in a decree\\n1. the authorities acting during the immigration enforcement procedure, as well as in connection with the notification of the\\naccommodation or place of residence, as well as the data of third-country nationals managed on the basis of this law, their\\njurisdiction, and the detailed procedure of the procedure; \\n77\\n2. the immigration enforcement duties, powers and competence of the visa-issuing authorities, the detailed rules of the visa\\nprocedure, the range of documents entitling to visa-free entry and residence, and the mandatory form of visas; \\n78'), Document(metadata={'creationdate': '2024-11-05T12:57:00+00:00', 'total_pages': 97, 'title': 'XC of 2023. law - National Legal Repository', 'moddate': '2024-11-05T12:57:00+00:00', 'producer': 'Skia/PDF m130', 'source': 'hungary_immigration.pdf', 'creator': 'Mozilla/5.0 (Windows NT 10.0; Win64; x64) AppleWebKit/537.36 (KHTML, like Gecko) Chrome/130.0.0.0 Safari/537.36', 'page': 41, 'page_label': '42'}, page_content='83. Judicial extension of custody\\nSection 139 (1) The immigration enforcement authority may request the extension of detention beyond 72 hours within 24 hours\\nfrom the date of its order to the district court authorized to extend detention.\\n(2) The court may extend immigration detention for a maximum of sixty days on occasion. The immigration enforcement\\nauthority may petition the court to extend immigration detention for another sixty days, provided that the petition arrives at the\\ncourt within eight working days prior to the day the extension is due.\\n(3) The immigration enforcement authority shall justify its motion.\\n84. Common rules of court procedure\\n§ 140. (1) The court acts as a single judge in the proceedings related to the evaluation of the objection and the extension of\\ncustody and decides by order.\\n(2) If the court has rejected the objection or the motion, there is no place to submit another objection or motion on the same\\nbasis.'), Document(metadata={'producer': 'Skia/PDF m130', 'creationdate': '2024-11-05T12:57:00+00:00', 'total_pages': 97, 'page_label': '65', 'source': 'hungary_immigration.pdf', 'title': 'XC of 2023. law - National Legal Repository', 'creator': 'Mozilla/5.0 (Windows NT 10.0; Win64; x64) AppleWebKit/537.36 (KHTML, like Gecko) Chrome/130.0.0.0 Safari/537.36', 'moddate': '2024-11-05T12:57:00+00:00', 'page': 64}, page_content='calculated together with the extension -, submit it no later than forty days before the expiration of the period of validity of the\\nresidence permit,\\ng) a third-country national who is legally residing in Hungary or who has a certificate in accordance with Section 20 (1) point k)\\nsubmits an application for an EU Blue Card,\\nh) the application for the issuance of a residence permit (long-term mobility permit) of a third-country national with a residence\\npermit issued by a member state of the European Union for the purpose of intra-company transfer for the purpose of intra-\\ncompany transfer, as well as the residence permit of a family member legally residing in Hungary together with the third-country\\nnational holding such a permit submits an application for, if the residence permit issued by the first Member State is valid,\\ni) a third-country national with a valid residence permit for the purpose of job hunting or starting a business, who submits an'), Document(metadata={'producer': 'Skia/PDF m130', 'page': 82, 'creator': 'Mozilla/5.0 (Windows NT 10.0; Win64; x64) AppleWebKit/537.36 (KHTML, like Gecko) Chrome/130.0.0.0 Safari/537.36', 'total_pages': 97, 'source': 'hungary_immigration.pdf', 'title': 'XC of 2023. law - National Legal Repository', 'creationdate': '2024-11-05T12:57:00+00:00', 'page_label': '83', 'moddate': '2024-11-05T12:57:00+00:00'}, page_content='(2) Between January 1, 2024 and February 29, 2024\\na) application for a residence permit - with the exception of an application for a residence permit issued in the national interest -,\\nb) an application for a residence permit and a residence card pursuant to this Act - with the exception of an application for a\\nnational residence card issued in the national interest -\\ncannot be submitted.\\n(3) The validity of residence permits and settlement permits expiring between January 1, 2024 and February 29, 2024 will be\\nextended until April 30, 2024.\\n(4) A visa, residence permit, or temporary residence certificate issued before the entry into force of this Act gives the right to\\nresidence in accordance with its provisions within the period of validity.\\n(5) The immigration permit or settlement permit, temporary, national and EC settlement permit and the travel document issued'), Document(metadata={'source': 'hungary_immigration.pdf', 'page_label': '63', 'creator': 'Mozilla/5.0 (Windows NT 10.0; Win64; x64) AppleWebKit/537.36 (KHTML, like Gecko) Chrome/130.0.0.0 Safari/537.36', 'total_pages': 97, 'producer': 'Skia/PDF m130', 'title': 'XC of 2023. law - National Legal Repository', 'moddate': '2024-11-05T12:57:00+00:00', 'page': 62, 'creationdate': '2024-11-05T12:57:00+00:00'}, page_content='reimburse shall be ex officio suspended until the entry and residence ban is in force. The statute of limitations is suspended during\\nthe suspension of execution.\\n§ 216. (1) Any other obligation ordered by the immigration enforcement authority, which does not qualify as an obligation to pay\\nmoney, expires after five years from the date of the final decision.\\n(2) The statute of limitations for execution is interrupted by any act of execution.\\n(3) The statute of limitations expires during the period of suspension of execution.\\n(4) The decision cannot be enforced after ten years from the date specified in subsection (1) .\\n§ 217. The authority ordering enforcement terminates enforcement if\\na) the claim is time-barred and the debtor requests the termination of enforcement, or\\nb) no result is expected from further enforcement procedural actions.\\nXXXI Chapter\\nOTHER RULES OF PROCEDURE\\n141. Procedural costs, bearing and advance payment of procedural costs'), Document(metadata={'producer': 'Skia/PDF m130', 'creator': 'Mozilla/5.0 (Windows NT 10.0; Win64; x64) AppleWebKit/537.36 (KHTML, like Gecko) Chrome/130.0.0.0 Safari/537.36', 'moddate': '2024-11-05T12:57:00+00:00', 'creationdate': '2024-11-05T12:57:00+00:00', 'page_label': '83', 'total_pages': 97, 'title': 'XC of 2023. law - National Legal Repository', 'source': 'hungary_immigration.pdf', 'page': 82}, page_content='(2) Between January 1, 2024 and February 29, 2024\\na) application for a residence permit - with the exception of an application for a residence permit issued in the national interest -,\\nb) an application for a residence permit and a residence card pursuant to this Act - with the exception of an application for a\\nnational residence card issued in the national interest -\\ncannot be submitted.\\n(3) The validity of residence permits and settlement permits expiring between January 1, 2024 and February 29, 2024 will be\\nextended until April 30, 2024.\\n(4) A visa, residence permit, or temporary residence certificate issued before the entry into force of this Act gives the right to\\nresidence in accordance with its provisions within the period of validity.\\n(5) The immigration permit or settlement permit, temporary, national and EC settlement permit and the travel document issued'), Document(metadata={'creationdate': '2024-11-05T12:57:00+00:00', 'producer': 'Skia/PDF m130', 'total_pages': 97, 'page_label': '74', 'page': 73, 'moddate': '2024-11-05T12:57:00+00:00', 'creator': 'Mozilla/5.0 (Windows NT 10.0; Win64; x64) AppleWebKit/537.36 (KHTML, like Gecko) Chrome/130.0.0.0 Safari/537.36', 'source': 'hungary_immigration.pdf', 'title': 'XC of 2023. law - National Legal Repository'}, page_content='issued (extended) residence permit or mobility in the case of a certificate, it is processed until the end of the fifth calendar year\\nfollowing its expiration or revocation.\\n(4) The data specified in point n) of subsection (1) until the final and enforceable decision made by the immigration authority on\\nthe application for a residence permit, or in points a) and b) of subsection (1) of Section 70 , and d) -f) is processed until the\\nhumanitarian residence permit is issued, after which it is deleted immediately.\\n(5) The immigration police register is a public register with respect to the data according to points a)-j) of paragraph (1) and\\nparagraph (2) .\\n§ 257. The immigration authority handles the facial image and fingerprint data recorded for the issuance of the small-border\\ntraffic permit in accordance with Council Decree 1030/2002/EC and Council Decree 380/2008/EC until a final and enforceable')]\n"
     ]
    },
    {
     "name": "stderr",
     "output_type": "stream",
     "text": [
      "/var/folders/h4/kdky5skx0jggltns31j4zj7r0000gn/T/ipykernel_56528/3522003570.py:8: LangChainBetaWarning: The function `loads` is in beta. It is actively being worked on, so the API may change.\n",
      "  return [loads(doc) for doc in unique_docs]\n"
     ]
    }
   ],
   "source": [
    "from langchain.load import dumps, loads\n",
    "\n",
    "def get_unique_union(documents:list[list]):\n",
    "    flattened_docs = [dumps(doc) for sublist in documents for doc in sublist]\n",
    "    # Get unique documents\n",
    "    unique_docs = list(set(flattened_docs))\n",
    "    # Return\n",
    "    return [loads(doc) for doc in unique_docs]\n",
    "\n",
    "# Retrieve\n",
    "question = \"What should I do if my residence permit expires ?\"\n",
    "retrieval_chain = generate_queries | retriever.map() | get_unique_union\n",
    "docs = retrieval_chain.invoke({\"question\":question})\n",
    "\n"
   ]
  },
  {
   "cell_type": "markdown",
   "id": "5eaafa5e",
   "metadata": {},
   "source": [
    "## Notes\n",
    "\n",
    "`retriever.map` applies the retriever to multiple inputs at once, rather than a single query.\n",
    "\n",
    "What `ChatPromptTemplate.fromTemplate` does\n",
    "\n",
    "ChatPromptTemplate is a special object in LangChain for managing prompts for LLMs.\n",
    "\n",
    "fromTemplate(template_str) takes a raw string template and converts it into a structured prompt object.\n",
    "\n",
    "\n",
    "Summary\n",
    "\n",
    "Input: single user question\n",
    "\n",
    "Step 1: Generate multiple sub-questions using LLM\n",
    "\n",
    "Step 2: Retrieve documents for each sub-question → list of lists\n",
    "\n",
    "Step 3: Flatten and deduplicate documents using dumps/loads\n",
    "\n",
    "Output: unique list of relevant documents"
   ]
  },
  {
   "cell_type": "markdown",
   "id": "258a5c7a",
   "metadata": {},
   "source": [
    "## Building the rag chain"
   ]
  },
  {
   "cell_type": "markdown",
   "id": "0014fa0c",
   "metadata": {},
   "source": [
    "### Creating the tamplate"
   ]
  },
  {
   "cell_type": "code",
   "execution_count": 10,
   "id": "0b5203fc",
   "metadata": {},
   "outputs": [],
   "source": [
    "from langchain_core.prompts import PromptTemplate\n",
    "\n",
    "# Define the RAC prompt\n",
    "prompt = PromptTemplate(\n",
    "    input_variables=[\"context\", \"question\"],\n",
    "    template=\"\"\"\n",
    "Use the following context to answer the question accurately.\n",
    "\n",
    "Context:\n",
    "{context}\n",
    "\n",
    "Question:\n",
    "{question}\n",
    "\n",
    "Answer:\n",
    "\"\"\"\n",
    ")\n"
   ]
  },
  {
   "cell_type": "markdown",
   "id": "30d51ada",
   "metadata": {},
   "source": [
    "### Building the RAG chain"
   ]
  },
  {
   "cell_type": "code",
   "execution_count": 11,
   "id": "210c1b74",
   "metadata": {},
   "outputs": [
    {
     "name": "stdout",
     "output_type": "stream",
     "text": [
      "Based on the provided context from the Hungarian immigration law, here is the information regarding family reunification:\n",
      "\n",
      "**Purpose:** A residence permit can be issued for the purpose of ensuring family coexistence (family reunification).\n",
      "\n",
      "**Eligible Persons:** A third-country national may receive this permit to join:\n",
      "*   a) a person with a residence permit,\n",
      "*   b) a person with an immigration, settlement, temporary settlement, national settlement or EC settlement permit.\n",
      "\n",
      "**Application Process for Family Members:**\n",
      "The context also specifies that a family member of such a \"family reunifier\" is eligible to apply for a residence permit via a combined application procedure, provided they meet certain conditions. Specifically, they must have been legally residing in Hungary with a valid residence permit issued for family coexistence for **at least one year** prior to the application, and the family reunifier must not be employed without a permit.\n",
      "\n",
      "**Transitional Provisions:**\n",
      "The law includes provisions for third-country nationals who held a residence permit for family coexistence when the new law entered into force, ensuring they maintain their rights and obligations under the new Act.\n"
     ]
    }
   ],
   "source": [
    "from langchain_core.output_parsers import StrOutputParser\n",
    "from langchain_core.runnables import RunnablePassthrough\n",
    "\n",
    "rag_chain = (\n",
    "    {\"context\": retrieval_chain, \"question\": RunnablePassthrough()}\n",
    "    | prompt\n",
    "    | llm\n",
    "    | StrOutputParser()\n",
    ")\n",
    "\n",
    "# Invoke\n",
    "question = \" I want to learn about family reunification\"\n",
    "result = rag_chain.invoke(question)\n",
    "print(result)"
   ]
  }
 ],
 "metadata": {
  "kernelspec": {
   "display_name": "langchain_venv (3.13.6)",
   "language": "python",
   "name": "python3"
  },
  "language_info": {
   "codemirror_mode": {
    "name": "ipython",
    "version": 3
   },
   "file_extension": ".py",
   "mimetype": "text/x-python",
   "name": "python",
   "nbconvert_exporter": "python",
   "pygments_lexer": "ipython3",
   "version": "3.13.6"
  }
 },
 "nbformat": 4,
 "nbformat_minor": 5
}
